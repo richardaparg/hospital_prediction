{
 "cells": [
  {
   "cell_type": "code",
   "execution_count": 199,
   "metadata": {},
   "outputs": [],
   "source": [
    "import pandas as pd\n",
    "import numpy as np\n",
    "import matplotlib.pyplot as plt\n",
    "import seaborn as sns\n",
    "from sklearn.model_selection import train_test_split\n",
    "from sklearn.ensemble import RandomForestClassifier\n",
    "from sklearn.preprocessing import LabelBinarizer"
   ]
  },
  {
   "cell_type": "markdown",
   "metadata": {},
   "source": [
    "### Step 1:\t\n",
    "Read in the three csv files as data frames. Combine all three data frames using admission_id into one named all_df, retaining all rows from Admissions.csv."
   ]
  },
  {
   "cell_type": "code",
   "execution_count": 200,
   "metadata": {},
   "outputs": [],
   "source": [
    "admin_df = pd.read_csv('C:/Users/rparg/Documents/Coding_Practice/Assignments/Admissions.csv').set_index('admission_id')\n",
    "lab_df = pd.read_csv('C:/Users/rparg/Documents/Coding_Practice/Assignments/Lab.csv').set_index('admission_id')\n",
    "tran_df = pd.read_csv('C:/Users/rparg/Documents/Coding_Practice/Assignments/Transfusions.csv').set_index('admission_id')"
   ]
  },
  {
   "cell_type": "code",
   "execution_count": 201,
   "metadata": {},
   "outputs": [],
   "source": [
    "admin_df.at[8968,'discharge_date'] = '09/28/2008'\n",
    "admin_df.at[6023,'discharge_date'] = '07/08/2001'\n",
    "admin_df.at[7801,'discharge_date'] = '05/13/2010'\n",
    "admin_df.at[7801,'admission_date'] = '2010-05-11'\n",
    "admin_df.at[5643,'discharge_date'] = '11/14/2001'"
   ]
  },
  {
   "cell_type": "code",
   "execution_count": 202,
   "metadata": {},
   "outputs": [],
   "source": [
    "len_stay = pd.DataFrame()\n",
    "len_stay['len_stay'] = (((pd.to_datetime(admin_df['discharge_date'], format = '%m/%d/%Y')) - (pd.to_datetime(admin_df['admission_date'], format = '%Y-%m-%d'))).dt.days)"
   ]
  },
  {
   "cell_type": "code",
   "execution_count": 37,
   "metadata": {},
   "outputs": [
    {
     "data": {
      "text/html": [
       "<div>\n",
       "<style scoped>\n",
       "    .dataframe tbody tr th:only-of-type {\n",
       "        vertical-align: middle;\n",
       "    }\n",
       "\n",
       "    .dataframe tbody tr th {\n",
       "        vertical-align: top;\n",
       "    }\n",
       "\n",
       "    .dataframe thead th {\n",
       "        text-align: right;\n",
       "    }\n",
       "</style>\n",
       "<table border=\"1\" class=\"dataframe\">\n",
       "  <thead>\n",
       "    <tr style=\"text-align: right;\">\n",
       "      <th></th>\n",
       "      <th>patient_id</th>\n",
       "      <th>admission_date</th>\n",
       "      <th>admission_time</th>\n",
       "      <th>discharge_date</th>\n",
       "      <th>discharge_time</th>\n",
       "      <th>hospital</th>\n",
       "      <th>age</th>\n",
       "      <th>sex</th>\n",
       "      <th>charlson_comorbidity_index</th>\n",
       "      <th>lap_score</th>\n",
       "    </tr>\n",
       "    <tr>\n",
       "      <th>admission_id</th>\n",
       "      <th></th>\n",
       "      <th></th>\n",
       "      <th></th>\n",
       "      <th></th>\n",
       "      <th></th>\n",
       "      <th></th>\n",
       "      <th></th>\n",
       "      <th></th>\n",
       "      <th></th>\n",
       "      <th></th>\n",
       "    </tr>\n",
       "  </thead>\n",
       "  <tbody>\n",
       "    <tr>\n",
       "      <th>3602</th>\n",
       "      <td>34208</td>\n",
       "      <td>2011-09-07</td>\n",
       "      <td>NaN</td>\n",
       "      <td>09/11/2011</td>\n",
       "      <td>13:16</td>\n",
       "      <td>St. Joseph's Health Centre</td>\n",
       "      <td>NaN</td>\n",
       "      <td>M</td>\n",
       "      <td>1</td>\n",
       "      <td>45</td>\n",
       "    </tr>\n",
       "    <tr>\n",
       "      <th>2790</th>\n",
       "      <td>90930</td>\n",
       "      <td>2008-07-22</td>\n",
       "      <td>06:19</td>\n",
       "      <td>07/24/2008</td>\n",
       "      <td>17:54</td>\n",
       "      <td>St. Michael's Hospital</td>\n",
       "      <td>48.0</td>\n",
       "      <td>M</td>\n",
       "      <td>1</td>\n",
       "      <td>46</td>\n",
       "    </tr>\n",
       "    <tr>\n",
       "      <th>8755</th>\n",
       "      <td>97765</td>\n",
       "      <td>2002-08-24</td>\n",
       "      <td>14:28</td>\n",
       "      <td>08/27/2002</td>\n",
       "      <td>08:14</td>\n",
       "      <td>Mount Sinai Hospital</td>\n",
       "      <td>59.0</td>\n",
       "      <td>F</td>\n",
       "      <td>0</td>\n",
       "      <td>35</td>\n",
       "    </tr>\n",
       "    <tr>\n",
       "      <th>9260</th>\n",
       "      <td>17941</td>\n",
       "      <td>2007-01-12</td>\n",
       "      <td>09:39</td>\n",
       "      <td>01/26/2007</td>\n",
       "      <td>11:10</td>\n",
       "      <td>Sunnybrook Health Sciences Centre</td>\n",
       "      <td>57.0</td>\n",
       "      <td>M</td>\n",
       "      <td>1</td>\n",
       "      <td>18</td>\n",
       "    </tr>\n",
       "    <tr>\n",
       "      <th>5317</th>\n",
       "      <td>36532</td>\n",
       "      <td>2003-09-24</td>\n",
       "      <td>13:37</td>\n",
       "      <td>10/12/2003</td>\n",
       "      <td>16:23</td>\n",
       "      <td>Toronto Western Hospital</td>\n",
       "      <td>51.0</td>\n",
       "      <td>F</td>\n",
       "      <td>1</td>\n",
       "      <td>21</td>\n",
       "    </tr>\n",
       "    <tr>\n",
       "      <th>...</th>\n",
       "      <td>...</td>\n",
       "      <td>...</td>\n",
       "      <td>...</td>\n",
       "      <td>...</td>\n",
       "      <td>...</td>\n",
       "      <td>...</td>\n",
       "      <td>...</td>\n",
       "      <td>...</td>\n",
       "      <td>...</td>\n",
       "      <td>...</td>\n",
       "    </tr>\n",
       "    <tr>\n",
       "      <th>6028</th>\n",
       "      <td>86717</td>\n",
       "      <td>2002-12-27</td>\n",
       "      <td>16:49</td>\n",
       "      <td>01/11/2003</td>\n",
       "      <td>22:45</td>\n",
       "      <td>Toronto Western Hospital</td>\n",
       "      <td>NaN</td>\n",
       "      <td>F</td>\n",
       "      <td>2+</td>\n",
       "      <td>22</td>\n",
       "    </tr>\n",
       "    <tr>\n",
       "      <th>2408</th>\n",
       "      <td>42427</td>\n",
       "      <td>2008-01-26</td>\n",
       "      <td>12:58</td>\n",
       "      <td>01/28/2008</td>\n",
       "      <td>01:45</td>\n",
       "      <td>St. Michael's Hospital</td>\n",
       "      <td>50.0</td>\n",
       "      <td>M</td>\n",
       "      <td>1</td>\n",
       "      <td>38</td>\n",
       "    </tr>\n",
       "    <tr>\n",
       "      <th>6356</th>\n",
       "      <td>22610</td>\n",
       "      <td>2007-05-16</td>\n",
       "      <td>15:10</td>\n",
       "      <td>05/20/2007</td>\n",
       "      <td>07:04</td>\n",
       "      <td>Sunnybrook Health Sciences Centre</td>\n",
       "      <td>52.0</td>\n",
       "      <td>M</td>\n",
       "      <td>1</td>\n",
       "      <td>23</td>\n",
       "    </tr>\n",
       "    <tr>\n",
       "      <th>6833</th>\n",
       "      <td>72792</td>\n",
       "      <td>2007-02-19</td>\n",
       "      <td>09:50</td>\n",
       "      <td>03/03/2007</td>\n",
       "      <td>03:07</td>\n",
       "      <td>Toronto Western Hospital</td>\n",
       "      <td>50.0</td>\n",
       "      <td>M</td>\n",
       "      <td>0</td>\n",
       "      <td>60</td>\n",
       "    </tr>\n",
       "    <tr>\n",
       "      <th>8516</th>\n",
       "      <td>82083</td>\n",
       "      <td>2010-02-23</td>\n",
       "      <td>21:37</td>\n",
       "      <td>03/02/2010</td>\n",
       "      <td>03:51</td>\n",
       "      <td>St. Michael's Hospital</td>\n",
       "      <td>62.0</td>\n",
       "      <td>M</td>\n",
       "      <td>1</td>\n",
       "      <td>5</td>\n",
       "    </tr>\n",
       "  </tbody>\n",
       "</table>\n",
       "<p>5231 rows × 10 columns</p>\n",
       "</div>"
      ],
      "text/plain": [
       "              patient_id admission_date admission_time discharge_date  \\\n",
       "admission_id                                                            \n",
       "3602               34208     2011-09-07            NaN     09/11/2011   \n",
       "2790               90930     2008-07-22          06:19     07/24/2008   \n",
       "8755               97765     2002-08-24          14:28     08/27/2002   \n",
       "9260               17941     2007-01-12          09:39     01/26/2007   \n",
       "5317               36532     2003-09-24          13:37     10/12/2003   \n",
       "...                  ...            ...            ...            ...   \n",
       "6028               86717     2002-12-27          16:49     01/11/2003   \n",
       "2408               42427     2008-01-26          12:58     01/28/2008   \n",
       "6356               22610     2007-05-16          15:10     05/20/2007   \n",
       "6833               72792     2007-02-19          09:50     03/03/2007   \n",
       "8516               82083     2010-02-23          21:37     03/02/2010   \n",
       "\n",
       "             discharge_time                           hospital   age sex  \\\n",
       "admission_id                                                               \n",
       "3602                  13:16         St. Joseph's Health Centre   NaN   M   \n",
       "2790                  17:54             St. Michael's Hospital  48.0   M   \n",
       "8755                  08:14               Mount Sinai Hospital  59.0   F   \n",
       "9260                  11:10  Sunnybrook Health Sciences Centre  57.0   M   \n",
       "5317                  16:23           Toronto Western Hospital  51.0   F   \n",
       "...                     ...                                ...   ...  ..   \n",
       "6028                  22:45           Toronto Western Hospital   NaN   F   \n",
       "2408                  01:45             St. Michael's Hospital  50.0   M   \n",
       "6356                  07:04  Sunnybrook Health Sciences Centre  52.0   M   \n",
       "6833                  03:07           Toronto Western Hospital  50.0   M   \n",
       "8516                  03:51             St. Michael's Hospital  62.0   M   \n",
       "\n",
       "             charlson_comorbidity_index  lap_score  \n",
       "admission_id                                        \n",
       "3602                                  1         45  \n",
       "2790                                  1         46  \n",
       "8755                                  0         35  \n",
       "9260                                  1         18  \n",
       "5317                                  1         21  \n",
       "...                                 ...        ...  \n",
       "6028                                 2+         22  \n",
       "2408                                  1         38  \n",
       "6356                                  1         23  \n",
       "6833                                  0         60  \n",
       "8516                                  1          5  \n",
       "\n",
       "[5231 rows x 10 columns]"
      ]
     },
     "execution_count": 37,
     "metadata": {},
     "output_type": "execute_result"
    }
   ],
   "source": [
    "admin_df"
   ]
  },
  {
   "cell_type": "code",
   "execution_count": null,
   "metadata": {},
   "outputs": [],
   "source": [
    "# add in source column?\n",
    "# joins - check that each one performs properly (is one-to-one)\n",
    "# no duplicates\n",
    "# lengths all add up correctly (dimensions)"
   ]
  },
  {
   "cell_type": "code",
   "execution_count": 243,
   "metadata": {},
   "outputs": [],
   "source": [
    "ad_df = admin_df.drop(['patient_id','admission_time','admission_date','discharge_date','discharge_time'],axis = 1)\n",
    "ad_df = ad_df.join(len_stay, how = 'left')\n",
    "ad_df['charlson_comorbidity_index'].replace({'0':0,'1':1,'2+':2}, inplace = True)\n",
    "ad_df['sex'].replace({'M':1, 'F': 2}, inplace = True)\n",
    "ad_nn_df = ad_df[(ad_df['age'].notnull()) & (ad_df['charlson_comorbidity_index'].notnull())]\n",
    "ad_in_df = ad_df[(ad_df['age'].isnull())].append(ad_df[(ad_df['charlson_comorbidity_index'].isnull())], sort = True).drop_duplicates()\n",
    "mean_age = int(ad_df['age'].mean())\n",
    "ad_in_df['age'].fillna(mean_age, inplace = True)\n",
    "ad_in_df['charlson_comorbidity_index'].fillna(1, inplace = True)"
   ]
  },
  {
   "cell_type": "code",
   "execution_count": 244,
   "metadata": {},
   "outputs": [],
   "source": [
    "X_train = ad_nn_df[['age','sex', 'charlson_comorbidity_index','lap_score','hospital']].append(ad_in_df[['age','sex', 'charlson_comorbidity_index','lap_score','hospital']])\n",
    "X_train = X_train.reset_index()\n",
    "ohe = LabelBinarizer()\n",
    "ohe.fit(X_train['hospital'])\n",
    "transformed = ohe.transform(X_train['hospital'])\n",
    "ohe_df = pd.DataFrame(transformed, columns = ['Michael','Sinai','Sunnybrook','Western','Joseph'])\n",
    "X_train = X_train.join(ohe_df, how = 'left').drop('hospital', axis = 1).set_index('admission_id').sort_index(ascending = True)"
   ]
  },
  {
   "cell_type": "code",
   "execution_count": 245,
   "metadata": {},
   "outputs": [],
   "source": [
    "y_train = pd.DataFrame()\n",
    "y_train['len_stay'] = ad_nn_df['len_stay'].append(ad_in_df['len_stay'])\n",
    "def condition(x):\n",
    "    if x<4:\n",
    "        return 1\n",
    "    elif x>=4 and x<9:\n",
    "        return 2\n",
    "    elif x>=9 and x<14:\n",
    "        return 3\n",
    "    elif x>=14 and x<18:\n",
    "        return 4\n",
    "    else:\n",
    "        return 5\n",
    "    \n",
    "y_train = y_train['len_stay'].apply(condition)"
   ]
  },
  {
   "cell_type": "code",
   "execution_count": 246,
   "metadata": {},
   "outputs": [],
   "source": [
    "X_test = ad_in_df[['age','hospital', 'charlson_comorbidity_index','lap_score','sex']]\n",
    "y_test = ad_in_df['len_stay']\n",
    "X_test = X_test.reset_index()\n",
    "ohe = LabelBinarizer()\n",
    "ohe.fit(X_test['hospital'])\n",
    "transformed = ohe.transform(X_test['hospital'])\n",
    "ohe_df = pd.DataFrame(transformed, columns = ['Michael','Sinai','Sunnybrook','Western','Joseph'])\n",
    "X_test = X_test.join(ohe_df, how = 'left').drop('hospital', axis = 1).set_index('admission_id').sort_index(ascending = True)"
   ]
  },
  {
   "cell_type": "code",
   "execution_count": 247,
   "metadata": {},
   "outputs": [],
   "source": [
    "y_test = pd.DataFrame()\n",
    "y_test['len_stay'] = ad_in_df['len_stay']\n",
    "def condition(x):\n",
    "    if x<4:\n",
    "        return 1\n",
    "    elif x>=4 and x<9:\n",
    "        return 2\n",
    "    elif x>=9 and x<14:\n",
    "        return 3\n",
    "    elif x>=14 and x<18:\n",
    "        return 4\n",
    "    else:\n",
    "        return 5\n",
    "y_test = ad_in_df['len_stay'].apply(condition)"
   ]
  },
  {
   "cell_type": "code",
   "execution_count": 248,
   "metadata": {},
   "outputs": [
    {
     "data": {
      "text/plain": [
       "RandomForestClassifier(max_depth=1000, random_state=12345)"
      ]
     },
     "execution_count": 248,
     "metadata": {},
     "output_type": "execute_result"
    }
   ],
   "source": [
    "clf = RandomForestClassifier(max_depth=1000, random_state=12345)\n",
    "clf.fit(X_train, y_train)"
   ]
  },
  {
   "cell_type": "code",
   "execution_count": 249,
   "metadata": {},
   "outputs": [
    {
     "data": {
      "text/plain": [
       "0.2023529411764706"
      ]
     },
     "execution_count": 249,
     "metadata": {},
     "output_type": "execute_result"
    }
   ],
   "source": [
    "clf.score(X_test, y_test.to_numpy().reshape(-1,1))"
   ]
  },
  {
   "cell_type": "code",
   "execution_count": 250,
   "metadata": {},
   "outputs": [],
   "source": [
    "def proximityMatrix(model, X):      \n",
    "\n",
    "    terminals = model.apply(X)\n",
    "    nTrees = terminals.shape[1]\n",
    "\n",
    "    a = terminals[:,0]\n",
    "    proxMat = 1*np.equal.outer(a, a)\n",
    "\n",
    "    for i in range(1, nTrees):\n",
    "        a = terminals[:,i]\n",
    "        proxMat += 1*np.equal.outer(a, a)\n",
    "    \n",
    "    proxMat = proxMat / nTrees\n",
    "\n",
    "    return proxMat\n",
    "model = RandomForestClassifier(n_estimators=500, max_features=9, min_samples_leaf=10)\n",
    "model.fit(X_train, y_train)\n",
    "X = proximityMatrix(model, X_train)"
   ]
  },
  {
   "cell_type": "code",
   "execution_count": 251,
   "metadata": {},
   "outputs": [],
   "source": [
    "nn_index = np.setdiff1d(X_train.index.to_numpy(),X_test.index.to_numpy())\n",
    "in_pm_df = pd.DataFrame(X, index = X_train.index, columns = X_train.index.to_numpy()).drop(labels = nn_index).drop(labels = X_test.index, axis = 1)\n",
    "in_pm_df = Z.div(Z.sum(axis=1), axis=0)"
   ]
  },
  {
   "cell_type": "code",
   "execution_count": 226,
   "metadata": {},
   "outputs": [
    {
     "data": {
      "text/plain": [
       "count     4376\n",
       "unique       3\n",
       "top          1\n",
       "freq      1592\n",
       "Name: charlson_comorbidity_index, dtype: object"
      ]
     },
     "execution_count": 226,
     "metadata": {},
     "output_type": "execute_result"
    }
   ],
   "source": [
    "ad_nn_df['charlson_comorbidity_index']"
   ]
  },
  {
   "cell_type": "code",
   "execution_count": 252,
   "metadata": {},
   "outputs": [],
   "source": [
    "an_df = ((ad_nn_df['age'].sort_index())*in_pm_df).sum(axis = 1).astype('int')\n",
    "cn_df = ((ad_nn_df['charlson_comorbidity_index'].sort_index())*in_pm_df).sum(axis = 1).astype('int')"
   ]
  },
  {
   "cell_type": "code",
   "execution_count": 253,
   "metadata": {},
   "outputs": [
    {
     "name": "stdout",
     "output_type": "stream",
     "text": [
      "admission_id\n",
      "1023    54\n",
      "1028    54\n",
      "1029    53\n",
      "1047    47\n",
      "1057    53\n",
      "        ..\n",
      "9951    54\n",
      "9955    52\n",
      "9959    63\n",
      "9968    53\n",
      "9972    53\n",
      "Length: 850, dtype: int32\n",
      "admission_id\n",
      "1023    0\n",
      "1028    1\n",
      "1029    0\n",
      "1047    1\n",
      "1057    1\n",
      "       ..\n",
      "9951    0\n",
      "9955    1\n",
      "9959    0\n",
      "9968    0\n",
      "9972    1\n",
      "Length: 850, dtype: int32\n"
     ]
    }
   ],
   "source": [
    "print(an_df)\n",
    "print(cn_df)"
   ]
  },
  {
   "cell_type": "code",
   "execution_count": null,
   "metadata": {},
   "outputs": [],
   "source": [
    "#a_df = pd.DataFrame(ad_df[\"admission_date\"].str.split(\"-\", n = 2, expand = False))\n",
    "#ad_df[['ay','am','ad']] = pd.DataFrame(a_df.admission_date.tolist(), index= a_df.index).astype(int)\n",
    "#d_df = pd.DataFrame(ad_df[\"discharge_date\"].str.split(\"/\", n = 2, expand = False))\n",
    "#ad_df[['dd','dm','dy']] = pd.DataFrame(d_df.discharge_date.tolist(), index= d_df.index).astype(int)\n",
    "#t_df = pd.DataFrame(ad_df[\"discharge_time\"].str.split(\":\", n = 1, expand = False))\n",
    "#ad_df[['th','tm']] = pd.DataFrame(t_df.discharge_time.tolist(), index= t_df.index).astype(int)\n",
    "#ad_df[['ay','dy']] = ad_df[['ay','dy']] - 2000"
   ]
  },
  {
   "cell_type": "code",
   "execution_count": 61,
   "metadata": {},
   "outputs": [],
   "source": [
    "a_df = admin_df.drop(['patient_id','admission_date','admission_time','discharge_date','discharge_time'], axis = 1)\n",
    "a_df.set_index('admission_id', inplace = True)\n",
    "l_df = lab_df.drop(['test_name','result_unit','result_date','result_time'], axis = 1)\n",
    "l_df.set_index('admission_id', inplace = True)\n",
    "t_df = tran_df.drop(['issue_date','issue_time'],axis = 1)\n",
    "t_df.set_index('admission_id', inplace = True)\n",
    "all_df = a_df.join([l_df,t_df], how = 'left', sort = True)"
   ]
  },
  {
   "cell_type": "code",
   "execution_count": 74,
   "metadata": {},
   "outputs": [
    {
     "data": {
      "text/html": [
       "<div>\n",
       "<style scoped>\n",
       "    .dataframe tbody tr th:only-of-type {\n",
       "        vertical-align: middle;\n",
       "    }\n",
       "\n",
       "    .dataframe tbody tr th {\n",
       "        vertical-align: top;\n",
       "    }\n",
       "\n",
       "    .dataframe thead th {\n",
       "        text-align: right;\n",
       "    }\n",
       "</style>\n",
       "<table border=\"1\" class=\"dataframe\">\n",
       "  <thead>\n",
       "    <tr style=\"text-align: right;\">\n",
       "      <th></th>\n",
       "      <th>hospital</th>\n",
       "      <th>age</th>\n",
       "      <th>sex</th>\n",
       "      <th>charlson_comorbidity_index</th>\n",
       "      <th>lap_score</th>\n",
       "      <th>test_code</th>\n",
       "      <th>result_value</th>\n",
       "      <th>rbc_transfusion</th>\n",
       "      <th>platelet_transfusion</th>\n",
       "      <th>plasma_transfusion</th>\n",
       "    </tr>\n",
       "  </thead>\n",
       "  <tbody>\n",
       "    <tr>\n",
       "      <th>count</th>\n",
       "      <td>5231</td>\n",
       "      <td>4604.00000</td>\n",
       "      <td>5231</td>\n",
       "      <td>4970</td>\n",
       "      <td>5231.000000</td>\n",
       "      <td>3609</td>\n",
       "      <td>3609.000000</td>\n",
       "      <td>657</td>\n",
       "      <td>657</td>\n",
       "      <td>657</td>\n",
       "    </tr>\n",
       "    <tr>\n",
       "      <th>unique</th>\n",
       "      <td>5</td>\n",
       "      <td>NaN</td>\n",
       "      <td>2</td>\n",
       "      <td>3</td>\n",
       "      <td>NaN</td>\n",
       "      <td>9</td>\n",
       "      <td>NaN</td>\n",
       "      <td>2</td>\n",
       "      <td>2</td>\n",
       "      <td>2</td>\n",
       "    </tr>\n",
       "    <tr>\n",
       "      <th>top</th>\n",
       "      <td>St. Michael's Hospital</td>\n",
       "      <td>NaN</td>\n",
       "      <td>F</td>\n",
       "      <td>1</td>\n",
       "      <td>NaN</td>\n",
       "      <td>ALB</td>\n",
       "      <td>NaN</td>\n",
       "      <td>True</td>\n",
       "      <td>False</td>\n",
       "      <td>False</td>\n",
       "    </tr>\n",
       "    <tr>\n",
       "      <th>freq</th>\n",
       "      <td>1413</td>\n",
       "      <td>NaN</td>\n",
       "      <td>2832</td>\n",
       "      <td>1818</td>\n",
       "      <td>NaN</td>\n",
       "      <td>1463</td>\n",
       "      <td>NaN</td>\n",
       "      <td>376</td>\n",
       "      <td>653</td>\n",
       "      <td>380</td>\n",
       "    </tr>\n",
       "    <tr>\n",
       "      <th>mean</th>\n",
       "      <td>NaN</td>\n",
       "      <td>54.94874</td>\n",
       "      <td>NaN</td>\n",
       "      <td>NaN</td>\n",
       "      <td>27.528197</td>\n",
       "      <td>NaN</td>\n",
       "      <td>81.539762</td>\n",
       "      <td>NaN</td>\n",
       "      <td>NaN</td>\n",
       "      <td>NaN</td>\n",
       "    </tr>\n",
       "    <tr>\n",
       "      <th>std</th>\n",
       "      <td>NaN</td>\n",
       "      <td>5.05146</td>\n",
       "      <td>NaN</td>\n",
       "      <td>NaN</td>\n",
       "      <td>21.423248</td>\n",
       "      <td>NaN</td>\n",
       "      <td>94.470176</td>\n",
       "      <td>NaN</td>\n",
       "      <td>NaN</td>\n",
       "      <td>NaN</td>\n",
       "    </tr>\n",
       "    <tr>\n",
       "      <th>min</th>\n",
       "      <td>NaN</td>\n",
       "      <td>38.00000</td>\n",
       "      <td>NaN</td>\n",
       "      <td>NaN</td>\n",
       "      <td>0.000000</td>\n",
       "      <td>NaN</td>\n",
       "      <td>0.000000</td>\n",
       "      <td>NaN</td>\n",
       "      <td>NaN</td>\n",
       "      <td>NaN</td>\n",
       "    </tr>\n",
       "    <tr>\n",
       "      <th>25%</th>\n",
       "      <td>NaN</td>\n",
       "      <td>51.00000</td>\n",
       "      <td>NaN</td>\n",
       "      <td>NaN</td>\n",
       "      <td>11.000000</td>\n",
       "      <td>NaN</td>\n",
       "      <td>3.600000</td>\n",
       "      <td>NaN</td>\n",
       "      <td>NaN</td>\n",
       "      <td>NaN</td>\n",
       "    </tr>\n",
       "    <tr>\n",
       "      <th>50%</th>\n",
       "      <td>NaN</td>\n",
       "      <td>55.00000</td>\n",
       "      <td>NaN</td>\n",
       "      <td>NaN</td>\n",
       "      <td>23.000000</td>\n",
       "      <td>NaN</td>\n",
       "      <td>48.600000</td>\n",
       "      <td>NaN</td>\n",
       "      <td>NaN</td>\n",
       "      <td>NaN</td>\n",
       "    </tr>\n",
       "    <tr>\n",
       "      <th>75%</th>\n",
       "      <td>NaN</td>\n",
       "      <td>58.00000</td>\n",
       "      <td>NaN</td>\n",
       "      <td>NaN</td>\n",
       "      <td>40.000000</td>\n",
       "      <td>NaN</td>\n",
       "      <td>140.900000</td>\n",
       "      <td>NaN</td>\n",
       "      <td>NaN</td>\n",
       "      <td>NaN</td>\n",
       "    </tr>\n",
       "    <tr>\n",
       "      <th>max</th>\n",
       "      <td>NaN</td>\n",
       "      <td>74.00000</td>\n",
       "      <td>NaN</td>\n",
       "      <td>NaN</td>\n",
       "      <td>136.000000</td>\n",
       "      <td>NaN</td>\n",
       "      <td>584.400000</td>\n",
       "      <td>NaN</td>\n",
       "      <td>NaN</td>\n",
       "      <td>NaN</td>\n",
       "    </tr>\n",
       "  </tbody>\n",
       "</table>\n",
       "</div>"
      ],
      "text/plain": [
       "                      hospital         age   sex charlson_comorbidity_index  \\\n",
       "count                     5231  4604.00000  5231                       4970   \n",
       "unique                       5         NaN     2                          3   \n",
       "top     St. Michael's Hospital         NaN     F                          1   \n",
       "freq                      1413         NaN  2832                       1818   \n",
       "mean                       NaN    54.94874   NaN                        NaN   \n",
       "std                        NaN     5.05146   NaN                        NaN   \n",
       "min                        NaN    38.00000   NaN                        NaN   \n",
       "25%                        NaN    51.00000   NaN                        NaN   \n",
       "50%                        NaN    55.00000   NaN                        NaN   \n",
       "75%                        NaN    58.00000   NaN                        NaN   \n",
       "max                        NaN    74.00000   NaN                        NaN   \n",
       "\n",
       "          lap_score test_code  result_value rbc_transfusion  \\\n",
       "count   5231.000000      3609   3609.000000             657   \n",
       "unique          NaN         9           NaN               2   \n",
       "top             NaN       ALB           NaN            True   \n",
       "freq            NaN      1463           NaN             376   \n",
       "mean      27.528197       NaN     81.539762             NaN   \n",
       "std       21.423248       NaN     94.470176             NaN   \n",
       "min        0.000000       NaN      0.000000             NaN   \n",
       "25%       11.000000       NaN      3.600000             NaN   \n",
       "50%       23.000000       NaN     48.600000             NaN   \n",
       "75%       40.000000       NaN    140.900000             NaN   \n",
       "max      136.000000       NaN    584.400000             NaN   \n",
       "\n",
       "       platelet_transfusion plasma_transfusion  \n",
       "count                   657                657  \n",
       "unique                    2                  2  \n",
       "top                   False              False  \n",
       "freq                    653                380  \n",
       "mean                    NaN                NaN  \n",
       "std                     NaN                NaN  \n",
       "min                     NaN                NaN  \n",
       "25%                     NaN                NaN  \n",
       "50%                     NaN                NaN  \n",
       "75%                     NaN                NaN  \n",
       "max                     NaN                NaN  "
      ]
     },
     "execution_count": 74,
     "metadata": {},
     "output_type": "execute_result"
    }
   ],
   "source": [
    "all_df.describe(include = 'all')"
   ]
  },
  {
   "cell_type": "code",
   "execution_count": null,
   "metadata": {},
   "outputs": [],
   "source": [
    "### EDA on each dataset"
   ]
  },
  {
   "cell_type": "code",
   "execution_count": null,
   "metadata": {},
   "outputs": [],
   "source": [
    "pd.describe, some graphs, unique values, value_counts()"
   ]
  },
  {
   "cell_type": "code",
   "execution_count": null,
   "metadata": {},
   "outputs": [],
   "source": [
    "### Fix any missing values/ make decisions "
   ]
  },
  {
   "cell_type": "code",
   "execution_count": null,
   "metadata": {},
   "outputs": [],
   "source": [
    "### Deal with any weirdness in data \n",
    " # - things that may happen when information is manually entered\n",
    " # - look at unique strings in columns -> weird spellings?\n",
    " # - are things that are supposed to be numerical actually numbers?\n",
    " # - are there any clear outliers where maybe something went wrong?\n",
    "\n",
    "# Show these results"
   ]
  },
  {
   "cell_type": "markdown",
   "metadata": {},
   "source": [
    "Categorical Column ''''blah blab blah''' is changed to xyz"
   ]
  },
  {
   "cell_type": "code",
   "execution_count": null,
   "metadata": {},
   "outputs": [],
   "source": []
  },
  {
   "cell_type": "markdown",
   "metadata": {},
   "source": [
    "### Step 2:\n",
    "Impute the missing age and charlson_comorbidity_index values in any way you see fit. Briefly explain how the imputation method(s) might affect a statistical model that uses these variables as predictors."
   ]
  },
  {
   "cell_type": "markdown",
   "metadata": {},
   "source": [
    "### Step 3:\n",
    "Determine if there is a significant difference in age between patients who had an rbc_transfusion and patients that did not. Determine if there is a significant difference in sex between these groups."
   ]
  },
  {
   "cell_type": "markdown",
   "metadata": {},
   "source": [
    "### Step 4:\n",
    "Fit a linear regression model using the result_value of the “Platelet Count” lab tests as the dependent variable and age, sex, and hospital as the independent variables. Interpret the results."
   ]
  },
  {
   "cell_type": "markdown",
   "metadata": {},
   "source": [
    "### Step 5:\n",
    "Create a plot that demonstrates the relationship between length_of_stay (discharge date and time minus admission date and time) and charlson_comorbidity_index. Briefly describe how you would change the visualization to add age as a third variable."
   ]
  },
  {
   "cell_type": "markdown",
   "metadata": {},
   "source": [
    "### Step 6:\n",
    "Fit a statistical model of your choosing to predict the result_value of the “Hemoglobin” lab tests and evaluate its performance. Explain your choices and how you might improve the model if you had to iterate on it. What other clinical variables would you be interested in adding to the model (they don’t have to be in the provided datasets)?"
   ]
  },
  {
   "cell_type": "code",
   "execution_count": null,
   "metadata": {},
   "outputs": [],
   "source": []
  }
 ],
 "metadata": {
  "kernelspec": {
   "display_name": "Python 3",
   "language": "python",
   "name": "python3"
  },
  "language_info": {
   "codemirror_mode": {
    "name": "ipython",
    "version": 3
   },
   "file_extension": ".py",
   "mimetype": "text/x-python",
   "name": "python",
   "nbconvert_exporter": "python",
   "pygments_lexer": "ipython3",
   "version": "3.8.3"
  }
 },
 "nbformat": 4,
 "nbformat_minor": 4
}
